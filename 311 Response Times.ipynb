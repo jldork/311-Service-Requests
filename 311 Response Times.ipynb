{
 "cells": [
  {
   "cell_type": "code",
   "execution_count": 125,
   "metadata": {},
   "outputs": [
    {
     "name": "stdout",
     "output_type": "stream",
     "text": [
      "File read complete:  1917212 rows\n"
     ]
    }
   ],
   "source": [
    "import pandas as pd\n",
    "import random\n",
    "\n",
    "def read_sample_from(fname, n=1000):\n",
    "    with open(fname,'r') as f:\n",
    "        f_len = sum(1 for line in f) - 1\n",
    "        \n",
    "    skip = sorted(random.sample(range(1,f_len),f_len-n))\n",
    "    \n",
    "    return pd.read_csv(\n",
    "        fname, \n",
    "        low_memory=False, usecols=range(27),\n",
    "        skiprows=skip\n",
    "    )\n",
    "\n",
    "# df = read_sample_from('./data/311_Service_Requests_from_2011.csv', 100000)\n",
    "df = pd.read_csv('./data/311_Service_Requests_from_2011.csv',  low_memory=False, usecols=range(27) )\n",
    "print(\"File read complete: \", len(df), 'rows')"
   ]
  },
  {
   "cell_type": "code",
   "execution_count": 126,
   "metadata": {},
   "outputs": [],
   "source": [
    "A = df[['Agency','Borough','Unique Key','Complaint Type', 'Status','Created Date', 'Closed Date']]\n",
    "A = A[A.Status == 'Closed']\n",
    "A = A[A['Closed Date'].notnull()]\n",
    "A['Closed Date'] = pd.to_datetime(A['Closed Date'], format='%m/%d/%Y %H:%M:%S %p')\n",
    "A['Created Date'] = pd.to_datetime(A['Created Date'], format='%m/%d/%Y %H:%M:%S %p')"
   ]
  },
  {
   "cell_type": "code",
   "execution_count": 127,
   "metadata": {},
   "outputs": [
    {
     "name": "stdout",
     "output_type": "stream",
     "text": [
      "Response times by hour per agency\n",
      "       Response Time        \n",
      "                mean  median\n",
      "Agency                      \n",
      "HRA             0.01    0.01\n",
      "3-1-1           0.06    0.01\n",
      "NYPD            3.65    1.49\n",
      "ACS            22.80   22.80\n",
      "DHS            92.58   65.94\n",
      "DFTA           98.51   48.46\n",
      "DOF           134.45   69.17\n",
      "DOT           220.11   33.54\n",
      "DEP           255.15   29.03\n",
      "HPD           258.70  144.00\n",
      "DSNY          288.98   57.38\n",
      "NYCEM         345.22  192.00\n",
      "DCA           385.66  373.84\n",
      "FDNY          452.07   39.23\n",
      "DOHMH         575.84  312.00\n",
      "DOITT         809.08  670.79\n",
      "TLC           841.57  549.69\n",
      "DOE          1289.50  158.54\n",
      "DOB          1999.58  383.34\n",
      "DPR          3050.89  151.91\n",
      "EDC          3099.66 2379.06\n"
     ]
    }
   ],
   "source": [
    "import numpy as np\n",
    "\n",
    "A['Response Time'] = (A['Closed Date'] - A['Created Date']) / np.timedelta64(1, 'h')\n",
    "print(\"Response times by hour per agency\")\n",
    "print(A.groupby('Agency').agg({\n",
    "    'Response Time': ['mean', 'median']\n",
    "}).sort_values(('Response Time', 'mean')))"
   ]
  },
  {
   "cell_type": "code",
   "execution_count": 128,
   "metadata": {},
   "outputs": [
    {
     "name": "stdout",
     "output_type": "stream",
     "text": [
      "Summary of response times for Dept. of Sanitation\n",
      "       Unique Key  Response Time\n",
      "count   120462.00      120462.00\n",
      "mean  20753653.68         288.98\n",
      "std     813841.51        4864.73\n",
      "min   19510895.00          -0.98\n",
      "25%   20036025.25          28.47\n",
      "50%   20669986.50          57.38\n",
      "75%   21484232.00         192.23\n",
      "max   25459372.00     1667045.16\n"
     ]
    },
    {
     "data": {
      "image/png": "[encoded data removed]",
      "text/plain": [
       "<matplotlib.figure.Figure at 0x7f61efb8e160>"
      ]
     },
     "metadata": {},
     "output_type": "display_data"
    }
   ],
   "source": [
    "import seaborn as sns\n",
    "%matplotlib inline\n",
    "pd.set_option('display.float_format', lambda x: '%.2f' % x)\n",
    "\n",
    "sanitation_responses = A[A.Agency == 'DSNY']\n",
    "print(\"Summary of response times for Dept. of Sanitation\")\n",
    "print(sanitation_responses.describe())\n",
    "\n",
    "# First, let's plot the values where response is below two weeks.\n",
    "\n",
    "ax = sns.distplot(\n",
    "    sanitation_responses[sanitation_responses['Response Time'] < 336]['Response Time'],\n",
    "    kde=False\n",
    ")\n",
    "title = ax.set_title(\"Distribution of Response Times by Dept. of Sanitation\")\n"
   ]
  },
  {
   "cell_type": "code",
   "execution_count": 131,
   "metadata": {},
   "outputs": [
    {
     "data": {
      "text/html": [
       "<div>\n",
       "<style scoped>\n",
       "    .dataframe tbody tr th:only-of-type {\n",
       "        vertical-align: middle;\n",
       "    }\n",
       "\n",
       "    .dataframe tbody tr th {\n",
       "        vertical-align: top;\n",
       "    }\n",
       "\n",
       "    .dataframe thead tr th {\n",
       "        text-align: left;\n",
       "    }\n",
       "\n",
       "    .dataframe thead tr:last-of-type th {\n",
       "        text-align: right;\n",
       "    }\n",
       "</style>\n",
       "<table border=\"1\" class=\"dataframe\">\n",
       "  <thead>\n",
       "    <tr>\n",
       "      <th></th>\n",
       "      <th colspan=\"2\" halign=\"left\">Response Time</th>\n",
       "    </tr>\n",
       "    <tr>\n",
       "      <th></th>\n",
       "      <th>mean</th>\n",
       "      <th>median</th>\n",
       "    </tr>\n",
       "    <tr>\n",
       "      <th>Complaint Type</th>\n",
       "      <th></th>\n",
       "      <th></th>\n",
       "    </tr>\n",
       "  </thead>\n",
       "  <tbody>\n",
       "    <tr>\n",
       "      <th>Adopt-A-Basket</th>\n",
       "      <td>72.46</td>\n",
       "      <td>71.95</td>\n",
       "    </tr>\n",
       "    <tr>\n",
       "      <th>Collection Truck Noise</th>\n",
       "      <td>49.88</td>\n",
       "      <td>31.12</td>\n",
       "    </tr>\n",
       "    <tr>\n",
       "      <th>Derelict Bicycle</th>\n",
       "      <td>60.93</td>\n",
       "      <td>34.19</td>\n",
       "    </tr>\n",
       "    <tr>\n",
       "      <th>Dirty Conditions</th>\n",
       "      <td>248.18</td>\n",
       "      <td>97.18</td>\n",
       "    </tr>\n",
       "    <tr>\n",
       "      <th>Graffiti</th>\n",
       "      <td>1383.19</td>\n",
       "      <td>1133.13</td>\n",
       "    </tr>\n",
       "    <tr>\n",
       "      <th>Litter Basket / Request</th>\n",
       "      <td>52.61</td>\n",
       "      <td>33.87</td>\n",
       "    </tr>\n",
       "    <tr>\n",
       "      <th>Missed Collection (All Materials)</th>\n",
       "      <td>49.47</td>\n",
       "      <td>32.80</td>\n",
       "    </tr>\n",
       "    <tr>\n",
       "      <th>Other Enforcement</th>\n",
       "      <td>110.71</td>\n",
       "      <td>50.31</td>\n",
       "    </tr>\n",
       "    <tr>\n",
       "      <th>Overflowing Litter Baskets</th>\n",
       "      <td>39.37</td>\n",
       "      <td>29.85</td>\n",
       "    </tr>\n",
       "    <tr>\n",
       "      <th>Recycling Enforcement</th>\n",
       "      <td>411.58</td>\n",
       "      <td>154.27</td>\n",
       "    </tr>\n",
       "    <tr>\n",
       "      <th>Sanitation Condition</th>\n",
       "      <td>48.07</td>\n",
       "      <td>32.00</td>\n",
       "    </tr>\n",
       "    <tr>\n",
       "      <th>Snow</th>\n",
       "      <td>149.09</td>\n",
       "      <td>57.23</td>\n",
       "    </tr>\n",
       "    <tr>\n",
       "      <th>Sweeping/Missed-Inadequate</th>\n",
       "      <td>45.15</td>\n",
       "      <td>31.50</td>\n",
       "    </tr>\n",
       "    <tr>\n",
       "      <th>Vacant Lot</th>\n",
       "      <td>498.56</td>\n",
       "      <td>337.29</td>\n",
       "    </tr>\n",
       "  </tbody>\n",
       "</table>\n",
       "</div>"
      ],
      "text/plain": [
       "                                  Response Time        \n",
       "                                           mean  median\n",
       "Complaint Type                                         \n",
       "Adopt-A-Basket                            72.46   71.95\n",
       "Collection Truck Noise                    49.88   31.12\n",
       "Derelict Bicycle                          60.93   34.19\n",
       "Dirty Conditions                         248.18   97.18\n",
       "Graffiti                                1383.19 1133.13\n",
       "Litter Basket / Request                   52.61   33.87\n",
       "Missed Collection (All Materials)         49.47   32.80\n",
       "Other Enforcement                        110.71   50.31\n",
       "Overflowing Litter Baskets                39.37   29.85\n",
       "Recycling Enforcement                    411.58  154.27\n",
       "Sanitation Condition                      48.07   32.00\n",
       "Snow                                     149.09   57.23\n",
       "Sweeping/Missed-Inadequate                45.15   31.50\n",
       "Vacant Lot                               498.56  337.29"
      ]
     },
     "execution_count": 131,
     "metadata": {},
     "output_type": "execute_result"
    }
   ],
   "source": [
    "sanitation_responses[['Complaint Type', 'Response Time']].groupby('Complaint Type').agg({\n",
    "    'Response Time': ['mean', 'median']\n",
    "})"
   ]
  },
  {
   "cell_type": "code",
   "execution_count": 151,
   "metadata": {},
   "outputs": [
    {
     "data": {
      "image/png": "[encoded data removed]",
      "text/plain": [
       "<matplotlib.figure.Figure at 0x7f61805f06a0>"
      ]
     },
     "metadata": {},
     "output_type": "display_data"
    }
   ],
   "source": [
    "import matplotlib.pyplot as plt\n",
    "\n",
    "complaint_types = list(set(sanitation_responses['Complaint Type']))\n",
    "colors = sns.color_palette(\"hls\", len(complaint_types))\n",
    "\n",
    "for i in range(len(complaint_types)):\n",
    "    complaint_type = complaint_types[i]\n",
    "    \n",
    "    response_gt_0 = sanitation_responses['Response Time'] > 0\n",
    "    complaint_cat = sanitation_responses['Complaint Type'] == complaint_type \n",
    "    filtered = sanitation_responses[response_gt_0 & complaint_cat]\n",
    "\n",
    "    log_values = np.log(filtered['Response Time'])\n",
    "    log_values = log_values.rename('Log Response Time')\n",
    "    ax = sns.distplot(log_values, kde=False, label=complaint_type, color=colors[i])\n",
    "\n",
    "plt.legend()\n",
    "fig = plt.gcf()\n",
    "fig.set_size_inches(18.5, 10.5)\n",
    "title = ax.set_title(\"Distribution of Log Response Times by Dept. of Sanitation\")"
   ]
  },
  {
   "cell_type": "code",
   "execution_count": 133,
   "metadata": {},
   "outputs": [
    {
     "data": {
      "text/plain": [
       "{'Adopt-A-Basket',\n",
       " 'Collection Truck Noise',\n",
       " 'Derelict Bicycle',\n",
       " 'Dirty Conditions',\n",
       " 'Graffiti',\n",
       " 'Litter Basket / Request',\n",
       " 'Missed Collection (All Materials)',\n",
       " 'Other Enforcement',\n",
       " 'Overflowing Litter Baskets',\n",
       " 'Recycling Enforcement',\n",
       " 'Sanitation Condition',\n",
       " 'Snow',\n",
       " 'Sweeping/Missed-Inadequate',\n",
       " 'Vacant Lot'}"
      ]
     },
     "execution_count": 133,
     "metadata": {},
     "output_type": "execute_result"
    }
   ],
   "source": []
  },
  {
   "cell_type": "code",
   "execution_count": null,
   "metadata": {},
   "outputs": [],
   "source": []
  }
 ],
 "metadata": {
  "kernelspec": {
   "display_name": "Python 3",
   "language": "python",
   "name": "python3"
  },
  "language_info": {
   "codemirror_mode": {
    "name": "ipython",
    "version": 3
   },
   "file_extension": ".py",
   "mimetype": "text/x-python",
   "name": "python",
   "nbconvert_exporter": "python",
   "pygments_lexer": "ipython3",
   "version": "3.5.2"
  }
 },
 "nbformat": 4,
 "nbformat_minor": 2
}
